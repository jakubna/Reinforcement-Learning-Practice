{
  "nbformat": 4,
  "nbformat_minor": 0,
  "metadata": {
    "colab": {
      "name": "report.ipynb",
      "provenance": [],
      "collapsed_sections": []
    },
    "kernelspec": {
      "name": "python3",
      "display_name": "Python 3"
    },
    "language_info": {
      "name": "python"
    }
  },
  "cells": [
    {
      "cell_type": "markdown",
      "metadata": {
        "id": "t6I-_MZ1Gsxb"
      },
      "source": [
        "## Advanced Topics in Computional Intelligence\n",
        "### Advantage Actor Critic Implementation\n",
        "*Natalia Jakubiak*"
      ]
    },
    {
      "cell_type": "markdown",
      "metadata": {
        "id": "5P3NatuxWOQB"
      },
      "source": [
        "This work is structured as 2 isolated jupyter notebooks: \n",
        "* a2c_cartpole_report.ipynb - contains the description of an implementation and solution for OpenAI problem \"CartPole-V1\"\n",
        "* a2c_lunarlander.ipynb - contains solution for \"LunarLander-v2\" problem"
      ]
    },
    {
      "cell_type": "markdown",
      "metadata": {
        "id": "kqQvwrngRA6q"
      },
      "source": [
        "### Introduction \n"
      ]
    },
    {
      "cell_type": "markdown",
      "metadata": {
        "id": "LqLfV1jLGtby"
      },
      "source": [
        "The goal of this exercise is to implement an Advantage Actor Critic algorithm for solving two problems from OpenAI gym: the classic CartPole problem and more complex LunarLander problem."
      ]
    },
    {
      "cell_type": "markdown",
      "metadata": {
        "id": "ooyrQ_9CQ-6y"
      },
      "source": [
        "### Software\n"
      ]
    },
    {
      "cell_type": "markdown",
      "metadata": {
        "id": "vvquWNvZGtl4"
      },
      "source": [
        "The implementation of this assignment was performed on Jupyter notebook, using Python 3.7.\n",
        "The included packages that were exploited are the following:\n",
        "* PyTorch 1.8.1\n",
        "* Gym 0.17.3\n",
        "* Matplotlib: Python library used to plot\n",
        "* Numpy, Collections: Python library used to do mathematical operations"
      ]
    },
    {
      "cell_type": "markdown",
      "metadata": {
        "id": "HvWQfNppmBpl"
      },
      "source": [
        "The first attempt to implement the A2C algorithm was made using Tensorflow. However, the training time was very long, so I decided to write it again using PyTorch so that I could do more experiments with different hyperparameters.\n",
        "\n"
      ]
    },
    {
      "cell_type": "code",
      "metadata": {
        "id": "jHKXh8wrd0TH"
      },
      "source": [
        "import gym\n",
        "import numpy as np\n",
        "import torch\n",
        "import torch.nn as nn\n",
        "import torch.optim\n",
        "import matplotlib.pyplot as plt\n",
        "import collections"
      ],
      "execution_count": null,
      "outputs": []
    },
    {
      "cell_type": "markdown",
      "metadata": {
        "id": "-KLweDYLCSUo"
      },
      "source": [
        "### Advantage Actor Critic Algorithm"
      ]
    },
    {
      "cell_type": "markdown",
      "metadata": {
        "id": "Xw1IRlZRGtf5"
      },
      "source": [
        "The actor critic algorithm consists of two networks (the actor and the critic) working together to solve a particular problem. At a high level, the Advantage Function calculates the agent’s TD Error or Prediction Error. The actor network chooses an action at each time step and the critic network evaluates the quality or the Q-value of a given input state. As the critic network learns which states are better or worse, the actor uses this information to teach the agent to seek out good states and avoid bad states."
      ]
    },
    {
      "cell_type": "markdown",
      "metadata": {
        "id": "hN5QFa0DGth3"
      },
      "source": [
        "### Cartpole problem"
      ]
    },
    {
      "cell_type": "markdown",
      "metadata": {
        "id": "fBSskndJ2Zxo"
      },
      "source": [
        "*In the CartPole-v0 environment, a pole is attached to a cart moving along a frictionless track. The pole starts upright and the goal of the agent is to prevent it from falling over by applying a force of -1 or +1 to the cart. A reward of +1 is given for every time step the pole remains upright. An episode ends when (1) the pole is more than 15 degrees from vertical or (2) the cart moves more than 2.4 units from the center.*\n",
        "\n",
        "**The problem is considered \"solved\" when the average total reward for the episode reaches 200 over 100 consecutive trials.**\n",
        "\n",
        "For Cartpole-v0, there are four values representing the state: cart position, cart-velocity, pole angle and pole velocity respectively. The agent can take two actions to push the cart left (0) and right (1) respectively."
      ]
    },
    {
      "cell_type": "markdown",
      "metadata": {
        "id": "9Axb8j8BHHdf"
      },
      "source": [
        "#### Defining the Actor Network\n",
        "\n",
        "The actor network maps each state to a corresponding action. It's weights are updated after every time step.\n",
        "\n",
        "The simple implementation of the policy network consisting of 2 densely connected layers is sufficient for CartPole problem. The network uses the Softmax activation function, because it allows us to interpret the policy output as a probability distribution, which is needed for the loss function. "
      ]
    },
    {
      "cell_type": "code",
      "metadata": {
        "id": "XN9YVh48d0XH"
      },
      "source": [
        "class Actor(nn.Module):\n",
        "    '''\n",
        "    Actor: Input of states and outputs the probability of an action (softmax)\n",
        "    '''\n",
        "    def __init__(self, n_action, space_dim, hidden_dim):\n",
        "        super(Actor, self).__init__()\n",
        "        self.feature_extractor = nn.Sequential(\n",
        "            nn.Linear(space_dim, hidden_dim),\n",
        "            nn.ReLU(True),\n",
        "        )\n",
        "        self.actor = nn.Sequential(\n",
        "            nn.Linear(hidden_dim, n_action),\n",
        "            nn.Softmax(dim=-1),\n",
        "        )\n",
        "    \n",
        "    def forward(self, x):\n",
        "        features = self.feature_extractor(x)\n",
        "        policy = self.actor(features)\n",
        "        return policy\n",
        "    "
      ],
      "execution_count": null,
      "outputs": []
    },
    {
      "cell_type": "markdown",
      "metadata": {
        "id": "0RiOb4ZGAz3H"
      },
      "source": [
        "#### Defining the Critic Network\n",
        "The critic network maps each state to its corresponding Q-value - this network has a single output, which estimates the future reward one can gain from a certain state. (It also consists 2 dense layers and ReLU activation function between them)."
      ]
    },
    {
      "cell_type": "code",
      "metadata": {
        "id": "I71n26I9AyGh"
      },
      "source": [
        "class Critic(nn.Module):\n",
        "    '''\n",
        "    Critic: Input is also state but the output is also state(linear)\n",
        "    '''\n",
        "    def __init__(self, space_dim, hidden_dim):\n",
        "        super(Critic, self).__init__()\n",
        "        self.feature_extractor = nn.Sequential(\n",
        "            nn.Linear(space_dim, hidden_dim),\n",
        "            nn.ReLU(True),\n",
        "        )\n",
        "        self.critic = nn.Linear(hidden_dim, 1)\n",
        "    \n",
        "    def forward(self, x):\n",
        "        features = self.feature_extractor(x)\n",
        "        est_reward = self.critic(features)\n",
        "        return est_reward"
      ],
      "execution_count": null,
      "outputs": []
    },
    {
      "cell_type": "markdown",
      "metadata": {
        "id": "bdOD-Be8Ybyp"
      },
      "source": [
        "#### The Actor-Critic loss\n",
        "\n",
        "For both the policy and the value function separate loss functions are defined.\n",
        "\n",
        "The value function (critic) is used to generate targets:\n",
        "\n",
        "$$\n",
        "y_t = r_t + \\gamma V_\\phi(s_{t+1})\n",
        "$$\n",
        "\n",
        "\n",
        "The loss function for the value function is nothing more than the squared difference between the estimated value and the actual reward given a certain state.\n",
        "$$\n",
        "CriticLoss = \\sum_{t=0}^T (y_t -  V_\\phi (s_t))^2\n",
        "$$\n",
        "\n",
        "\n",
        "The critic basically tries to minimize the mean-squared error, so the *MSELoss* function is used.\n"
      ]
    },
    {
      "cell_type": "code",
      "metadata": {
        "id": "V8f31ojtYdGa"
      },
      "source": [
        "# Critic loss function\n",
        "mse_loss = nn.MSELoss()"
      ],
      "execution_count": null,
      "outputs": []
    },
    {
      "cell_type": "markdown",
      "metadata": {
        "id": "CqVQzgBEi_fZ"
      },
      "source": [
        "The policy loss has the same form as in the plicy gradient methods implementation. The only difference is that it uses the advantages instead of returns as a reinforcing signal. \n",
        "\n",
        "$$\n",
        "ActorLoss = - \\sum_{t=0}^T  \\log \\pi_\\theta(s_t \\mid a_t) A^{\\pi_\\theta}(s_t, a_t) \n",
        "$$\n",
        "\n",
        "A negative term is added to the sum since the idea is to maximize the probabilities of actions yielding higher rewards by minimizing the combined loss."
      ]
    },
    {
      "cell_type": "code",
      "metadata": {
        "id": "ZuyTXA7ed0Za"
      },
      "source": [
        "# Actor loss function (policy gradient method loss)\n",
        "# Equivalent of tensorflow equation: loss = - tf.reduce mean(tf.log(prob outputs) * reward) [Source: ATCI presentation, Policy gradient methods, slide 34 ]\n",
        "class PGLoss(nn.Module):\n",
        "    def __init__(self):\n",
        "        super(PGLoss, self).__init__()\n",
        "    \n",
        "    def forward(self, action_prob, reward):\n",
        "        loss = -torch.mean(torch.log(action_prob+1e-6)*reward)\n",
        "        return loss\n",
        "pg_loss = PGLoss()"
      ],
      "execution_count": null,
      "outputs": []
    },
    {
      "cell_type": "markdown",
      "metadata": {
        "id": "tyLsnhvs68gy"
      },
      "source": [
        "The Advantage is equal to the TD Error. To calculate it, first the TD Target value needs to be calculated. In the implementation below following equations are used:\n",
        "1. The TD Target if not the last step of episode\n",
        "$$Q^{\\pi_\\theta}(s_t, a_t) =  \\mathbb{E} \\left[r_t + \\gamma V_\\phi(s_{t+1})\\right]$$\n",
        "2. The last step's TD Target\n",
        "$$Q^{\\pi_\\theta}(s_t, a_t) = r_t$$\n",
        "\n",
        "TD Target is the predicted value of all future rewards from the current state S. The function V(st+1) represents the Critic Network calculating the value of the next state St+1.\n",
        "\n",
        "Advantage is defined as the TD Target minus the value of the current state S - V(st).\n",
        "$$\n",
        "A^{\\pi_\\theta}(s_t, a_t) = Q^{\\pi_\\theta}(s_t, a_t) - V^{\\pi_\\theta}(s_t)\n",
        "$$\n",
        "\n",
        "The Advantage function says if a state is better or worse than expected. If an action is better than expected (the advantage is greater than 0), we want to encourage the actor to take more of that action. If an action is worse than expected (the advantage is less than 0), we want to encourage the actor to take the opposite of that action. If an action performs exactly as expected (the advantage equals 0), the actor doesn’t learn anything from that action.\n"
      ]
    },
    {
      "cell_type": "markdown",
      "metadata": {
        "id": "kShQEOOFLl5c"
      },
      "source": [
        "#### Auxiliar functions"
      ]
    },
    {
      "cell_type": "code",
      "metadata": {
        "id": "XIQkOnnlSOV-"
      },
      "source": [
        "# Return a new tensor with a dimension of size one inserted at the specified position\n",
        "def to_tensor(x, dtype=None):\n",
        "    return torch.tensor(x, dtype=dtype).unsqueeze(0)"
      ],
      "execution_count": null,
      "outputs": []
    },
    {
      "cell_type": "code",
      "metadata": {
        "id": "wuNsiUXaSOT_"
      },
      "source": [
        "# Using the output of policy network, pick action stochastically\n",
        "def get_action(policy):\n",
        "    return np.random.choice(len(policy), 1, p=policy)[0]"
      ],
      "execution_count": null,
      "outputs": []
    },
    {
      "cell_type": "markdown",
      "metadata": {
        "id": "5cnNoWF8LrT-"
      },
      "source": [
        "#### Environment initialization"
      ]
    },
    {
      "cell_type": "code",
      "metadata": {
        "id": "H5daOZbnSbfN"
      },
      "source": [
        "# Load environment\n",
        "env = gym.make('CartPole-v1')"
      ],
      "execution_count": null,
      "outputs": []
    },
    {
      "cell_type": "code",
      "metadata": {
        "id": "YHHTw-IVY2T1"
      },
      "source": [
        "# get size of state and action from environment\n",
        "state_size = env.observation_space.shape[0]\n",
        "action_size = env.action_space.n\n",
        "# number of hidden units for networks architecture\n",
        "hidden_dim = 32"
      ],
      "execution_count": null,
      "outputs": []
    },
    {
      "cell_type": "code",
      "metadata": {
        "colab": {
          "base_uri": "https://localhost:8080/"
        },
        "id": "KKedqz_2TuWA",
        "outputId": "d6c17219-295e-487a-9422-557b209eef15"
      },
      "source": [
        "# Set seed for experiment reproducibility\n",
        "SEED = 42\n",
        "env.seed(SEED)\n",
        "np.random.seed(SEED)\n",
        "torch.manual_seed(SEED)"
      ],
      "execution_count": null,
      "outputs": [
        {
          "output_type": "execute_result",
          "data": {
            "text/plain": [
              "<torch._C.Generator at 0x7fddf732b490>"
            ]
          },
          "metadata": {
            "tags": []
          },
          "execution_count": 5
        }
      ]
    },
    {
      "cell_type": "code",
      "metadata": {
        "id": "JUykPzeSZ1ZW"
      },
      "source": [
        "# Parameters for learning\n",
        "discounted_factor = 0.99 \n",
        "actor_lr = 0.001\n",
        "critic_lr = 0.005\n",
        "EPISODES = 1000"
      ],
      "execution_count": null,
      "outputs": []
    },
    {
      "cell_type": "code",
      "metadata": {
        "id": "U4bEQvQ6MIf1"
      },
      "source": [
        "# Create actor and critic networks\n",
        "actor = Actor(action_size, state_size, hidden_dim)\n",
        "critic = Critic(state_size, hidden_dim)\n",
        "\n",
        "# Add Adam Optimizer training for both the actor and critic functions, each with their own learning rate\n",
        "actor_optim = torch.optim.Adam(actor.parameters(), lr=actor_lr)\n",
        "critic_optim = torch.optim.Adam(critic.parameters(), lr=critic_lr)"
      ],
      "execution_count": null,
      "outputs": []
    },
    {
      "cell_type": "markdown",
      "metadata": {
        "id": "UFkuRzB4nYiH"
      },
      "source": [
        "#### Actor-Critic Training Loop\n",
        "\n",
        "Training is executed by running the training step until either the success criterion or maximum number of episodes is reached.\n",
        "\n",
        "A running record of episode rewards is kept in a queue (*scores_dq*). Once 100 trials are reached, the oldest reward is removed at the left (tail) end of the queue and the newest one is added at the head (right). A running sum of the rewards is also maintained for computational efficiency.\n",
        "\n",
        "To train the agent, model follows these steps (for each episode):\n",
        "1. Estimate action with policy network taking into acount current state.\n",
        "2. Interact with environment to collect training data per episode.\n",
        "3. Compute expected return at each time step.\n",
        "4. Calculated TD error.\n",
        "5. Compute the loss for the actor-critic model.\n",
        "6. Update networks parameters.\n",
        "7. Repeat 1-6 until the episode is finished (done = True).\n",
        "\n",
        "Training data is collected for each time step. The next action is sampled from the action probabilities generated by the model, which would then be applied to the environment, causing the next state and reward to be generated.\n",
        "Then, the model's forward pass is run on the environment's state in order to generate action probabilities and the critic value based on the current policy parameterized by the model's weights.\n",
        "\n",
        "At the beginning of the learning process, the critic will likely make large errors causing the calculated TD error to be quite incorrect. Because the algorithm starts out with the critic having no knowledge of the environment, the actor similarly can’t learn much from the critic. As the critic starts to make more and more accurate predictions, the calculated TD error (Advantage) becomes more accurate. The actor is able to learn from the increasingly accurate TD error to decide if a move was good or bad.\n",
        "\n"
      ]
    },
    {
      "cell_type": "code",
      "metadata": {
        "colab": {
          "base_uri": "https://localhost:8080/"
        },
        "id": "sFTkgiEASVM2",
        "outputId": "d1dbc9f5-4a82-4854-971b-745c47f744bb"
      },
      "source": [
        "# Scores list\n",
        "reward_lst = []\n",
        "# Average scores list\n",
        "avg_reward_lst = []\n",
        "# Deque to store the long-term-reward of the last 100 experiments \n",
        "scores_dq = collections.deque(maxlen=100)\n",
        "\n",
        "for e in range(EPISODES):\n",
        "    done = False\n",
        "    score = 0\n",
        "    # reset() returns a rondom initial state\n",
        "    state = to_tensor(env.reset(), dtype=torch.float)\n",
        "    while not done:\n",
        "        # clear gradient\n",
        "        actor_optim.zero_grad()\n",
        "        critic_optim.zero_grad()\n",
        "        \n",
        "        # estimate action with policy network by sampling action from the prob distribution instead of using argmax\n",
        "        policy = actor(state)\n",
        "        action = get_action(policy.detach().numpy()[0])\n",
        "        \n",
        "        # take the action and observe results - interact with the environment\n",
        "        next_state, reward, done, info = env.step(action)\n",
        "        \n",
        "        next_state = to_tensor(next_state, dtype=torch.float)\n",
        "        advantages = torch.zeros_like(policy)\n",
        "        \n",
        "        # get value for this state\n",
        "        value = critic(state)[0]\n",
        "        # get value for the next state\n",
        "        next_value = critic(next_state)[0]\n",
        "\n",
        "        # update the advantages and TD target\n",
        "        if done:\n",
        "            # if an action make the episode end, then gives penalty of -100\n",
        "            # reward = reward if not done or score == 499 else -100\n",
        "            t_reward = to_tensor([-100], dtype=torch.float) if score < 499 else to_tensor([reward], dtype=torch.float)\n",
        "            advantages[0, action] = t_reward - value\n",
        "            target = t_reward\n",
        "        else:\n",
        "            t_reward = to_tensor([reward], dtype=torch.float)\n",
        "            advantages[0, action] = t_reward + discounted_factor*next_value - value\n",
        "            target = t_reward + discounted_factor*next_value\n",
        "        \n",
        "        state = next_state\n",
        "\n",
        "        # update actor critic\n",
        "        actor_loss = pg_loss(policy, advantages.detach())\n",
        "        critic_loss = mse_loss(value, target.detach())\n",
        "        # loss function is a combination of actor and critic losses for training\n",
        "        loss = actor_loss + critic_loss\n",
        "        loss.backward()\n",
        "        actor_optim.step()\n",
        "        critic_optim.step()\n",
        "        \n",
        "        if not done:\n",
        "            score += reward\n",
        "\n",
        "    scores_dq.append(score)\n",
        "    reward_lst.append(score)\n",
        "    mean_score = np.mean(scores_dq)\n",
        "    avg_reward_lst.append(mean_score)\n",
        "    if mean_score >= 250 and e >= 100:\n",
        "        print('Ran {} episodes. Solved after {} trials ✔'.format(e, e - 100))    \n",
        "        break\n",
        "    print('Episodes: {}, Average Reward: {:.3f}, Reward: {}'.format(e, mean_score, score))\n",
        "\n"
      ],
      "execution_count": null,
      "outputs": [
        {
          "output_type": "stream",
          "text": [
            "/usr/local/lib/python3.7/dist-packages/torch/nn/modules/loss.py:528: UserWarning: Using a target size (torch.Size([1, 1])) that is different to the input size (torch.Size([1])). This will likely lead to incorrect results due to broadcasting. Please ensure they have the same size.\n",
            "  return F.mse_loss(input, target, reduction=self.reduction)\n"
          ],
          "name": "stderr"
        },
        {
          "output_type": "stream",
          "text": [
            "Episodes: 0, Average Reward: 95.000, Reward: 95.0\n",
            "Episodes: 1, Average Reward: 79.500, Reward: 64.0\n",
            "Episodes: 2, Average Reward: 60.667, Reward: 23.0\n",
            "Episodes: 3, Average Reward: 48.250, Reward: 11.0\n",
            "Episodes: 4, Average Reward: 40.600, Reward: 10.0\n",
            "Episodes: 5, Average Reward: 37.333, Reward: 21.0\n",
            "Episodes: 6, Average Reward: 34.000, Reward: 14.0\n",
            "Episodes: 7, Average Reward: 31.750, Reward: 16.0\n",
            "Episodes: 8, Average Reward: 29.444, Reward: 11.0\n",
            "Episodes: 9, Average Reward: 27.600, Reward: 11.0\n",
            "Episodes: 10, Average Reward: 26.818, Reward: 19.0\n",
            "Episodes: 11, Average Reward: 28.750, Reward: 50.0\n",
            "Episodes: 12, Average Reward: 27.615, Reward: 14.0\n",
            "Episodes: 13, Average Reward: 27.286, Reward: 23.0\n",
            "Episodes: 14, Average Reward: 26.200, Reward: 11.0\n",
            "Episodes: 15, Average Reward: 25.688, Reward: 18.0\n",
            "Episodes: 16, Average Reward: 27.941, Reward: 64.0\n",
            "Episodes: 17, Average Reward: 27.444, Reward: 19.0\n",
            "Episodes: 18, Average Reward: 27.053, Reward: 20.0\n",
            "Episodes: 19, Average Reward: 26.450, Reward: 15.0\n",
            "Episodes: 20, Average Reward: 25.619, Reward: 9.0\n",
            "Episodes: 21, Average Reward: 25.682, Reward: 27.0\n",
            "Episodes: 22, Average Reward: 25.130, Reward: 13.0\n",
            "Episodes: 23, Average Reward: 24.583, Reward: 12.0\n",
            "Episodes: 24, Average Reward: 24.600, Reward: 25.0\n",
            "Episodes: 25, Average Reward: 24.846, Reward: 31.0\n",
            "Episodes: 26, Average Reward: 24.556, Reward: 17.0\n",
            "Episodes: 27, Average Reward: 25.107, Reward: 40.0\n",
            "Episodes: 28, Average Reward: 24.724, Reward: 14.0\n",
            "Episodes: 29, Average Reward: 24.367, Reward: 14.0\n",
            "Episodes: 30, Average Reward: 24.484, Reward: 28.0\n",
            "Episodes: 31, Average Reward: 24.094, Reward: 12.0\n",
            "Episodes: 32, Average Reward: 23.727, Reward: 12.0\n",
            "Episodes: 33, Average Reward: 24.294, Reward: 43.0\n",
            "Episodes: 34, Average Reward: 24.086, Reward: 17.0\n",
            "Episodes: 35, Average Reward: 23.694, Reward: 10.0\n",
            "Episodes: 36, Average Reward: 25.432, Reward: 88.0\n",
            "Episodes: 37, Average Reward: 25.342, Reward: 22.0\n",
            "Episodes: 38, Average Reward: 24.897, Reward: 8.0\n",
            "Episodes: 39, Average Reward: 24.675, Reward: 16.0\n",
            "Episodes: 40, Average Reward: 24.902, Reward: 34.0\n",
            "Episodes: 41, Average Reward: 24.667, Reward: 15.0\n",
            "Episodes: 42, Average Reward: 24.651, Reward: 24.0\n",
            "Episodes: 43, Average Reward: 24.523, Reward: 19.0\n",
            "Episodes: 44, Average Reward: 24.556, Reward: 26.0\n",
            "Episodes: 45, Average Reward: 24.217, Reward: 9.0\n",
            "Episodes: 46, Average Reward: 24.319, Reward: 29.0\n",
            "Episodes: 47, Average Reward: 25.042, Reward: 59.0\n",
            "Episodes: 48, Average Reward: 24.980, Reward: 22.0\n",
            "Episodes: 49, Average Reward: 24.920, Reward: 22.0\n",
            "Episodes: 50, Average Reward: 24.824, Reward: 20.0\n",
            "Episodes: 51, Average Reward: 25.000, Reward: 34.0\n",
            "Episodes: 52, Average Reward: 25.321, Reward: 42.0\n",
            "Episodes: 53, Average Reward: 25.574, Reward: 39.0\n",
            "Episodes: 54, Average Reward: 25.818, Reward: 39.0\n",
            "Episodes: 55, Average Reward: 26.286, Reward: 52.0\n",
            "Episodes: 56, Average Reward: 27.053, Reward: 70.0\n",
            "Episodes: 57, Average Reward: 26.776, Reward: 11.0\n",
            "Episodes: 58, Average Reward: 27.339, Reward: 60.0\n",
            "Episodes: 59, Average Reward: 27.683, Reward: 48.0\n",
            "Episodes: 60, Average Reward: 27.623, Reward: 24.0\n",
            "Episodes: 61, Average Reward: 27.403, Reward: 14.0\n",
            "Episodes: 62, Average Reward: 27.603, Reward: 40.0\n",
            "Episodes: 63, Average Reward: 27.359, Reward: 12.0\n",
            "Episodes: 64, Average Reward: 27.538, Reward: 39.0\n",
            "Episodes: 65, Average Reward: 27.621, Reward: 33.0\n",
            "Episodes: 66, Average Reward: 27.552, Reward: 23.0\n",
            "Episodes: 67, Average Reward: 27.324, Reward: 12.0\n",
            "Episodes: 68, Average Reward: 27.246, Reward: 22.0\n",
            "Episodes: 69, Average Reward: 27.157, Reward: 21.0\n",
            "Episodes: 70, Average Reward: 27.211, Reward: 31.0\n",
            "Episodes: 71, Average Reward: 27.056, Reward: 16.0\n",
            "Episodes: 72, Average Reward: 27.068, Reward: 28.0\n",
            "Episodes: 73, Average Reward: 26.973, Reward: 20.0\n",
            "Episodes: 74, Average Reward: 27.453, Reward: 63.0\n",
            "Episodes: 75, Average Reward: 27.421, Reward: 25.0\n",
            "Episodes: 76, Average Reward: 27.351, Reward: 22.0\n",
            "Episodes: 77, Average Reward: 28.077, Reward: 84.0\n",
            "Episodes: 78, Average Reward: 27.962, Reward: 19.0\n",
            "Episodes: 79, Average Reward: 27.775, Reward: 13.0\n",
            "Episodes: 80, Average Reward: 27.667, Reward: 19.0\n",
            "Episodes: 81, Average Reward: 27.561, Reward: 19.0\n",
            "Episodes: 82, Average Reward: 27.831, Reward: 50.0\n",
            "Episodes: 83, Average Reward: 27.690, Reward: 16.0\n",
            "Episodes: 84, Average Reward: 27.576, Reward: 18.0\n",
            "Episodes: 85, Average Reward: 27.721, Reward: 40.0\n",
            "Episodes: 86, Average Reward: 27.805, Reward: 35.0\n",
            "Episodes: 87, Average Reward: 27.898, Reward: 36.0\n",
            "Episodes: 88, Average Reward: 27.876, Reward: 26.0\n",
            "Episodes: 89, Average Reward: 28.056, Reward: 44.0\n",
            "Episodes: 90, Average Reward: 27.967, Reward: 20.0\n",
            "Episodes: 91, Average Reward: 28.141, Reward: 44.0\n",
            "Episodes: 92, Average Reward: 28.333, Reward: 46.0\n",
            "Episodes: 93, Average Reward: 28.319, Reward: 27.0\n",
            "Episodes: 94, Average Reward: 28.695, Reward: 64.0\n",
            "Episodes: 95, Average Reward: 28.708, Reward: 30.0\n",
            "Episodes: 96, Average Reward: 29.340, Reward: 90.0\n",
            "Episodes: 97, Average Reward: 29.204, Reward: 16.0\n",
            "Episodes: 98, Average Reward: 29.212, Reward: 30.0\n",
            "Episodes: 99, Average Reward: 29.180, Reward: 26.0\n",
            "Episodes: 100, Average Reward: 28.820, Reward: 59.0\n",
            "Episodes: 101, Average Reward: 28.390, Reward: 21.0\n",
            "Episodes: 102, Average Reward: 28.500, Reward: 34.0\n",
            "Episodes: 103, Average Reward: 28.550, Reward: 16.0\n",
            "Episodes: 104, Average Reward: 28.930, Reward: 48.0\n",
            "Episodes: 105, Average Reward: 28.840, Reward: 12.0\n",
            "Episodes: 106, Average Reward: 28.800, Reward: 10.0\n",
            "Episodes: 107, Average Reward: 29.400, Reward: 76.0\n",
            "Episodes: 108, Average Reward: 29.570, Reward: 28.0\n",
            "Episodes: 109, Average Reward: 29.620, Reward: 16.0\n",
            "Episodes: 110, Average Reward: 30.300, Reward: 87.0\n",
            "Episodes: 111, Average Reward: 30.020, Reward: 22.0\n",
            "Episodes: 112, Average Reward: 30.110, Reward: 23.0\n",
            "Episodes: 113, Average Reward: 30.210, Reward: 33.0\n",
            "Episodes: 114, Average Reward: 30.300, Reward: 20.0\n",
            "Episodes: 115, Average Reward: 30.650, Reward: 53.0\n",
            "Episodes: 116, Average Reward: 30.720, Reward: 71.0\n",
            "Episodes: 117, Average Reward: 31.190, Reward: 66.0\n",
            "Episodes: 118, Average Reward: 31.220, Reward: 23.0\n",
            "Episodes: 119, Average Reward: 32.160, Reward: 109.0\n",
            "Episodes: 120, Average Reward: 32.330, Reward: 26.0\n",
            "Episodes: 121, Average Reward: 32.450, Reward: 39.0\n",
            "Episodes: 122, Average Reward: 32.910, Reward: 59.0\n",
            "Episodes: 123, Average Reward: 33.150, Reward: 36.0\n",
            "Episodes: 124, Average Reward: 33.360, Reward: 46.0\n",
            "Episodes: 125, Average Reward: 33.570, Reward: 52.0\n",
            "Episodes: 126, Average Reward: 34.100, Reward: 70.0\n",
            "Episodes: 127, Average Reward: 34.290, Reward: 59.0\n",
            "Episodes: 128, Average Reward: 35.420, Reward: 127.0\n",
            "Episodes: 129, Average Reward: 35.890, Reward: 61.0\n",
            "Episodes: 130, Average Reward: 36.860, Reward: 125.0\n",
            "Episodes: 131, Average Reward: 37.550, Reward: 81.0\n",
            "Episodes: 132, Average Reward: 38.020, Reward: 59.0\n",
            "Episodes: 133, Average Reward: 37.890, Reward: 30.0\n",
            "Episodes: 134, Average Reward: 38.300, Reward: 58.0\n",
            "Episodes: 135, Average Reward: 38.930, Reward: 73.0\n",
            "Episodes: 136, Average Reward: 38.350, Reward: 30.0\n",
            "Episodes: 137, Average Reward: 38.960, Reward: 83.0\n",
            "Episodes: 138, Average Reward: 39.440, Reward: 56.0\n",
            "Episodes: 139, Average Reward: 40.140, Reward: 86.0\n",
            "Episodes: 140, Average Reward: 40.670, Reward: 87.0\n",
            "Episodes: 141, Average Reward: 42.250, Reward: 173.0\n",
            "Episodes: 142, Average Reward: 42.490, Reward: 48.0\n",
            "Episodes: 143, Average Reward: 43.340, Reward: 104.0\n",
            "Episodes: 144, Average Reward: 44.120, Reward: 104.0\n",
            "Episodes: 145, Average Reward: 44.640, Reward: 61.0\n",
            "Episodes: 146, Average Reward: 44.880, Reward: 53.0\n",
            "Episodes: 147, Average Reward: 44.950, Reward: 66.0\n",
            "Episodes: 148, Average Reward: 45.490, Reward: 76.0\n",
            "Episodes: 149, Average Reward: 45.930, Reward: 66.0\n",
            "Episodes: 150, Average Reward: 46.610, Reward: 88.0\n",
            "Episodes: 151, Average Reward: 46.730, Reward: 46.0\n",
            "Episodes: 152, Average Reward: 46.690, Reward: 38.0\n",
            "Episodes: 153, Average Reward: 46.770, Reward: 47.0\n",
            "Episodes: 154, Average Reward: 47.500, Reward: 112.0\n",
            "Episodes: 155, Average Reward: 47.580, Reward: 60.0\n",
            "Episodes: 156, Average Reward: 47.770, Reward: 89.0\n",
            "Episodes: 157, Average Reward: 48.700, Reward: 104.0\n",
            "Episodes: 158, Average Reward: 49.010, Reward: 91.0\n",
            "Episodes: 159, Average Reward: 49.880, Reward: 135.0\n",
            "Episodes: 160, Average Reward: 51.430, Reward: 179.0\n",
            "Episodes: 161, Average Reward: 52.580, Reward: 129.0\n",
            "Episodes: 162, Average Reward: 54.360, Reward: 218.0\n",
            "Episodes: 163, Average Reward: 56.430, Reward: 219.0\n",
            "Episodes: 164, Average Reward: 57.210, Reward: 117.0\n",
            "Episodes: 165, Average Reward: 58.020, Reward: 114.0\n",
            "Episodes: 166, Average Reward: 58.690, Reward: 90.0\n",
            "Episodes: 167, Average Reward: 59.350, Reward: 78.0\n",
            "Episodes: 168, Average Reward: 60.690, Reward: 156.0\n",
            "Episodes: 169, Average Reward: 61.200, Reward: 72.0\n",
            "Episodes: 170, Average Reward: 62.110, Reward: 122.0\n",
            "Episodes: 171, Average Reward: 63.060, Reward: 111.0\n",
            "Episodes: 172, Average Reward: 67.770, Reward: 499.0\n",
            "Episodes: 173, Average Reward: 69.470, Reward: 190.0\n",
            "Episodes: 174, Average Reward: 69.820, Reward: 98.0\n",
            "Episodes: 175, Average Reward: 70.470, Reward: 90.0\n",
            "Episodes: 176, Average Reward: 71.170, Reward: 92.0\n",
            "Episodes: 177, Average Reward: 72.180, Reward: 185.0\n",
            "Episodes: 178, Average Reward: 73.450, Reward: 146.0\n",
            "Episodes: 179, Average Reward: 75.670, Reward: 235.0\n",
            "Episodes: 180, Average Reward: 76.050, Reward: 57.0\n",
            "Episodes: 181, Average Reward: 76.690, Reward: 83.0\n",
            "Episodes: 182, Average Reward: 76.850, Reward: 66.0\n",
            "Episodes: 183, Average Reward: 77.480, Reward: 79.0\n",
            "Episodes: 184, Average Reward: 78.900, Reward: 160.0\n",
            "Episodes: 185, Average Reward: 80.780, Reward: 228.0\n",
            "Episodes: 186, Average Reward: 81.720, Reward: 129.0\n",
            "Episodes: 187, Average Reward: 82.680, Reward: 132.0\n",
            "Episodes: 188, Average Reward: 83.640, Reward: 122.0\n",
            "Episodes: 189, Average Reward: 84.430, Reward: 123.0\n",
            "Episodes: 190, Average Reward: 85.400, Reward: 117.0\n",
            "Episodes: 191, Average Reward: 85.840, Reward: 88.0\n",
            "Episodes: 192, Average Reward: 86.220, Reward: 84.0\n",
            "Episodes: 193, Average Reward: 86.700, Reward: 75.0\n",
            "Episodes: 194, Average Reward: 87.060, Reward: 100.0\n",
            "Episodes: 195, Average Reward: 87.550, Reward: 79.0\n",
            "Episodes: 196, Average Reward: 87.270, Reward: 62.0\n",
            "Episodes: 197, Average Reward: 87.840, Reward: 73.0\n",
            "Episodes: 198, Average Reward: 89.160, Reward: 162.0\n",
            "Episodes: 199, Average Reward: 91.310, Reward: 241.0\n",
            "Episodes: 200, Average Reward: 92.130, Reward: 141.0\n",
            "Episodes: 201, Average Reward: 93.650, Reward: 173.0\n",
            "Episodes: 202, Average Reward: 98.300, Reward: 499.0\n",
            "Episodes: 203, Average Reward: 103.130, Reward: 499.0\n",
            "Episodes: 204, Average Reward: 107.640, Reward: 499.0\n",
            "Episodes: 205, Average Reward: 111.810, Reward: 429.0\n",
            "Episodes: 206, Average Reward: 114.040, Reward: 233.0\n",
            "Episodes: 207, Average Reward: 116.680, Reward: 340.0\n",
            "Episodes: 208, Average Reward: 120.190, Reward: 379.0\n",
            "Episodes: 209, Average Reward: 121.730, Reward: 170.0\n",
            "Episodes: 210, Average Reward: 121.900, Reward: 104.0\n",
            "Episodes: 211, Average Reward: 122.620, Reward: 94.0\n",
            "Episodes: 212, Average Reward: 122.640, Reward: 25.0\n",
            "Episodes: 213, Average Reward: 122.580, Reward: 27.0\n",
            "Episodes: 214, Average Reward: 122.560, Reward: 18.0\n",
            "Episodes: 215, Average Reward: 122.160, Reward: 13.0\n",
            "Episodes: 216, Average Reward: 121.570, Reward: 12.0\n",
            "Episodes: 217, Average Reward: 121.200, Reward: 29.0\n",
            "Episodes: 218, Average Reward: 121.210, Reward: 24.0\n",
            "Episodes: 219, Average Reward: 120.340, Reward: 22.0\n",
            "Episodes: 220, Average Reward: 120.410, Reward: 33.0\n",
            "Episodes: 221, Average Reward: 120.280, Reward: 26.0\n",
            "Episodes: 222, Average Reward: 120.000, Reward: 31.0\n",
            "Episodes: 223, Average Reward: 119.890, Reward: 25.0\n",
            "Episodes: 224, Average Reward: 119.680, Reward: 25.0\n",
            "Episodes: 225, Average Reward: 119.440, Reward: 28.0\n",
            "Episodes: 226, Average Reward: 118.960, Reward: 22.0\n",
            "Episodes: 227, Average Reward: 118.530, Reward: 16.0\n",
            "Episodes: 228, Average Reward: 117.530, Reward: 27.0\n",
            "Episodes: 229, Average Reward: 117.330, Reward: 41.0\n",
            "Episodes: 230, Average Reward: 116.500, Reward: 42.0\n",
            "Episodes: 231, Average Reward: 115.990, Reward: 30.0\n",
            "Episodes: 232, Average Reward: 115.830, Reward: 43.0\n",
            "Episodes: 233, Average Reward: 116.420, Reward: 89.0\n",
            "Episodes: 234, Average Reward: 116.840, Reward: 100.0\n",
            "Episodes: 235, Average Reward: 117.090, Reward: 98.0\n",
            "Episodes: 236, Average Reward: 118.040, Reward: 125.0\n",
            "Episodes: 237, Average Reward: 118.800, Reward: 159.0\n",
            "Episodes: 238, Average Reward: 119.910, Reward: 167.0\n",
            "Episodes: 239, Average Reward: 122.350, Reward: 330.0\n",
            "Episodes: 240, Average Reward: 124.050, Reward: 257.0\n",
            "Episodes: 241, Average Reward: 127.260, Reward: 494.0\n",
            "Episodes: 242, Average Reward: 128.800, Reward: 202.0\n",
            "Episodes: 243, Average Reward: 129.870, Reward: 211.0\n",
            "Episodes: 244, Average Reward: 130.460, Reward: 163.0\n",
            "Episodes: 245, Average Reward: 131.240, Reward: 139.0\n",
            "Episodes: 246, Average Reward: 131.880, Reward: 117.0\n",
            "Episodes: 247, Average Reward: 132.970, Reward: 175.0\n",
            "Episodes: 248, Average Reward: 134.780, Reward: 257.0\n",
            "Episodes: 249, Average Reward: 136.280, Reward: 216.0\n",
            "Episodes: 250, Average Reward: 137.870, Reward: 247.0\n",
            "Episodes: 251, Average Reward: 139.660, Reward: 225.0\n",
            "Episodes: 252, Average Reward: 143.840, Reward: 456.0\n",
            "Episodes: 253, Average Reward: 148.360, Reward: 499.0\n",
            "Episodes: 254, Average Reward: 152.230, Reward: 499.0\n",
            "Episodes: 255, Average Reward: 156.620, Reward: 499.0\n",
            "Episodes: 256, Average Reward: 160.720, Reward: 499.0\n",
            "Episodes: 257, Average Reward: 161.680, Reward: 200.0\n",
            "Episodes: 258, Average Reward: 162.340, Reward: 157.0\n",
            "Episodes: 259, Average Reward: 162.170, Reward: 118.0\n",
            "Episodes: 260, Average Reward: 161.480, Reward: 110.0\n",
            "Episodes: 261, Average Reward: 160.670, Reward: 48.0\n",
            "Episodes: 262, Average Reward: 158.940, Reward: 45.0\n",
            "Episodes: 263, Average Reward: 156.990, Reward: 24.0\n",
            "Episodes: 264, Average Reward: 156.300, Reward: 48.0\n",
            "Episodes: 265, Average Reward: 155.420, Reward: 26.0\n",
            "Episodes: 266, Average Reward: 154.980, Reward: 46.0\n",
            "Episodes: 267, Average Reward: 154.820, Reward: 62.0\n",
            "Episodes: 268, Average Reward: 153.470, Reward: 21.0\n",
            "Episodes: 269, Average Reward: 153.300, Reward: 55.0\n",
            "Episodes: 270, Average Reward: 152.690, Reward: 61.0\n",
            "Episodes: 271, Average Reward: 152.520, Reward: 94.0\n",
            "Episodes: 272, Average Reward: 148.170, Reward: 64.0\n",
            "Episodes: 273, Average Reward: 147.260, Reward: 99.0\n",
            "Episodes: 274, Average Reward: 147.320, Reward: 104.0\n",
            "Episodes: 275, Average Reward: 147.960, Reward: 154.0\n",
            "Episodes: 276, Average Reward: 148.510, Reward: 147.0\n",
            "Episodes: 277, Average Reward: 148.130, Reward: 147.0\n",
            "Episodes: 278, Average Reward: 148.040, Reward: 137.0\n",
            "Episodes: 279, Average Reward: 147.780, Reward: 209.0\n",
            "Episodes: 280, Average Reward: 150.230, Reward: 302.0\n",
            "Episodes: 281, Average Reward: 151.440, Reward: 204.0\n",
            "Episodes: 282, Average Reward: 152.740, Reward: 196.0\n",
            "Episodes: 283, Average Reward: 153.780, Reward: 183.0\n",
            "Episodes: 284, Average Reward: 154.930, Reward: 275.0\n",
            "Episodes: 285, Average Reward: 157.640, Reward: 499.0\n",
            "Episodes: 286, Average Reward: 161.060, Reward: 471.0\n",
            "Episodes: 287, Average Reward: 162.720, Reward: 298.0\n",
            "Episodes: 288, Average Reward: 163.680, Reward: 218.0\n",
            "Episodes: 289, Average Reward: 164.390, Reward: 194.0\n",
            "Episodes: 290, Average Reward: 163.550, Reward: 33.0\n",
            "Episodes: 291, Average Reward: 163.880, Reward: 121.0\n",
            "Episodes: 292, Average Reward: 164.320, Reward: 128.0\n",
            "Episodes: 293, Average Reward: 165.070, Reward: 150.0\n",
            "Episodes: 294, Average Reward: 165.260, Reward: 119.0\n",
            "Episodes: 295, Average Reward: 165.860, Reward: 139.0\n",
            "Episodes: 296, Average Reward: 166.580, Reward: 134.0\n",
            "Episodes: 297, Average Reward: 167.450, Reward: 160.0\n",
            "Episodes: 298, Average Reward: 167.420, Reward: 159.0\n",
            "Episodes: 299, Average Reward: 166.700, Reward: 169.0\n",
            "Episodes: 300, Average Reward: 167.040, Reward: 175.0\n",
            "Episodes: 301, Average Reward: 166.450, Reward: 114.0\n",
            "Episodes: 302, Average Reward: 162.450, Reward: 99.0\n",
            "Episodes: 303, Average Reward: 158.420, Reward: 96.0\n",
            "Episodes: 304, Average Reward: 154.580, Reward: 115.0\n",
            "Episodes: 305, Average Reward: 151.830, Reward: 154.0\n",
            "Episodes: 306, Average Reward: 150.970, Reward: 147.0\n",
            "Episodes: 307, Average Reward: 149.460, Reward: 189.0\n",
            "Episodes: 308, Average Reward: 148.750, Reward: 308.0\n",
            "Episodes: 309, Average Reward: 150.860, Reward: 381.0\n",
            "Episodes: 310, Average Reward: 154.810, Reward: 499.0\n",
            "Episodes: 311, Average Reward: 155.670, Reward: 180.0\n",
            "Episodes: 312, Average Reward: 160.410, Reward: 499.0\n",
            "Episodes: 313, Average Reward: 162.360, Reward: 222.0\n",
            "Episodes: 314, Average Reward: 167.170, Reward: 499.0\n",
            "Episodes: 315, Average Reward: 172.030, Reward: 499.0\n",
            "Episodes: 316, Average Reward: 176.900, Reward: 499.0\n",
            "Episodes: 317, Average Reward: 181.600, Reward: 499.0\n",
            "Episodes: 318, Average Reward: 186.350, Reward: 499.0\n",
            "Episodes: 319, Average Reward: 190.910, Reward: 478.0\n",
            "Episodes: 320, Average Reward: 192.610, Reward: 203.0\n",
            "Episodes: 321, Average Reward: 192.450, Reward: 10.0\n",
            "Episodes: 322, Average Reward: 192.240, Reward: 10.0\n",
            "Episodes: 323, Average Reward: 192.090, Reward: 10.0\n",
            "Episodes: 324, Average Reward: 191.960, Reward: 12.0\n",
            "Episodes: 325, Average Reward: 192.250, Reward: 57.0\n",
            "Episodes: 326, Average Reward: 195.200, Reward: 317.0\n",
            "Episodes: 327, Average Reward: 195.470, Reward: 43.0\n",
            "Episodes: 328, Average Reward: 195.870, Reward: 67.0\n",
            "Episodes: 329, Average Reward: 196.220, Reward: 76.0\n",
            "Episodes: 330, Average Reward: 196.640, Reward: 84.0\n",
            "Episodes: 331, Average Reward: 201.330, Reward: 499.0\n",
            "Episodes: 332, Average Reward: 202.690, Reward: 179.0\n",
            "Episodes: 333, Average Reward: 206.790, Reward: 499.0\n",
            "Episodes: 334, Average Reward: 210.780, Reward: 499.0\n",
            "Episodes: 335, Average Reward: 214.790, Reward: 499.0\n",
            "Episodes: 336, Average Reward: 218.530, Reward: 499.0\n",
            "Episodes: 337, Average Reward: 221.930, Reward: 499.0\n",
            "Episodes: 338, Average Reward: 225.250, Reward: 499.0\n",
            "Episodes: 339, Average Reward: 226.940, Reward: 499.0\n",
            "Episodes: 340, Average Reward: 229.360, Reward: 499.0\n",
            "Episodes: 341, Average Reward: 227.820, Reward: 340.0\n",
            "Episodes: 342, Average Reward: 227.730, Reward: 193.0\n",
            "Episodes: 343, Average Reward: 226.750, Reward: 113.0\n",
            "Episodes: 344, Average Reward: 226.220, Reward: 110.0\n",
            "Episodes: 345, Average Reward: 225.900, Reward: 107.0\n",
            "Episodes: 346, Average Reward: 225.770, Reward: 104.0\n",
            "Episodes: 347, Average Reward: 225.110, Reward: 109.0\n",
            "Episodes: 348, Average Reward: 222.960, Reward: 42.0\n",
            "Episodes: 349, Average Reward: 221.860, Reward: 106.0\n",
            "Episodes: 350, Average Reward: 219.660, Reward: 27.0\n",
            "Episodes: 351, Average Reward: 217.710, Reward: 30.0\n",
            "Episodes: 352, Average Reward: 213.530, Reward: 38.0\n",
            "Episodes: 353, Average Reward: 209.640, Reward: 110.0\n",
            "Episodes: 354, Average Reward: 205.570, Reward: 92.0\n",
            "Episodes: 355, Average Reward: 201.780, Reward: 120.0\n",
            "Episodes: 356, Average Reward: 198.210, Reward: 142.0\n",
            "Episodes: 357, Average Reward: 197.470, Reward: 126.0\n",
            "Episodes: 358, Average Reward: 197.930, Reward: 203.0\n",
            "Episodes: 359, Average Reward: 199.130, Reward: 238.0\n",
            "Episodes: 360, Average Reward: 200.450, Reward: 242.0\n",
            "Episodes: 361, Average Reward: 203.020, Reward: 305.0\n",
            "Episodes: 362, Average Reward: 204.660, Reward: 209.0\n",
            "Episodes: 363, Average Reward: 206.750, Reward: 233.0\n",
            "Episodes: 364, Average Reward: 208.240, Reward: 197.0\n",
            "Episodes: 365, Average Reward: 209.950, Reward: 197.0\n",
            "Episodes: 366, Average Reward: 211.210, Reward: 172.0\n",
            "Episodes: 367, Average Reward: 213.030, Reward: 244.0\n",
            "Episodes: 368, Average Reward: 214.700, Reward: 188.0\n",
            "Episodes: 369, Average Reward: 216.650, Reward: 250.0\n",
            "Episodes: 370, Average Reward: 218.940, Reward: 290.0\n",
            "Episodes: 371, Average Reward: 221.660, Reward: 366.0\n",
            "Episodes: 372, Average Reward: 223.490, Reward: 247.0\n",
            "Episodes: 373, Average Reward: 224.800, Reward: 230.0\n",
            "Episodes: 374, Average Reward: 226.380, Reward: 262.0\n",
            "Episodes: 375, Average Reward: 227.740, Reward: 290.0\n",
            "Episodes: 376, Average Reward: 229.340, Reward: 307.0\n",
            "Episodes: 377, Average Reward: 231.320, Reward: 345.0\n",
            "Episodes: 378, Average Reward: 233.420, Reward: 347.0\n",
            "Episodes: 379, Average Reward: 236.320, Reward: 499.0\n",
            "Episodes: 380, Average Reward: 238.290, Reward: 499.0\n",
            "Episodes: 381, Average Reward: 241.240, Reward: 499.0\n",
            "Episodes: 382, Average Reward: 244.270, Reward: 499.0\n",
            "Episodes: 383, Average Reward: 247.430, Reward: 499.0\n",
            "Episodes: 384, Average Reward: 249.670, Reward: 499.0\n",
            "Episodes: 385, Average Reward: 249.670, Reward: 499.0\n",
            "Episodes: 386, Average Reward: 249.950, Reward: 499.0\n",
            "Ran 387 episodes. Solved after 287 trials ✔\n"
          ],
          "name": "stdout"
        }
      ]
    },
    {
      "cell_type": "markdown",
      "metadata": {
        "id": "yk44Xm_zCg-1"
      },
      "source": [
        "### Results"
      ]
    },
    {
      "cell_type": "code",
      "metadata": {
        "colab": {
          "base_uri": "https://localhost:8080/",
          "height": 264
        },
        "id": "_bKbnQWWT4K3",
        "outputId": "109c79b0-0717-426c-c7b2-de513a64c707"
      },
      "source": [
        "plt.plot(avg_reward_lst)\n",
        "plt.show()"
      ],
      "execution_count": null,
      "outputs": [
        {
          "output_type": "display_data",
          "data": {
            "image/png": "[encoded data removed]",
            "text/plain": [
              "<Figure size 432x288 with 1 Axes>"
            ]
          },
          "metadata": {
            "tags": [],
            "needs_background": "light"
          }
        }
      ]
    },
    {
      "cell_type": "markdown",
      "metadata": {
        "id": "erKT1Hn_ClMm"
      },
      "source": [
        "Above plot is for the average score of 100 consecutive trials for 387 runs.\n",
        "CartPole-v1 states the problem is solved by getting an average reward of 200 over 100 consecutive trials. I set the treshold = 250. As can be seen model is getting an average score above 250 after 387 runs, but first, it takes about 200 runs to get an average score above even 100."
      ]
    },
    {
      "cell_type": "code",
      "metadata": {
        "colab": {
          "base_uri": "https://localhost:8080/",
          "height": 264
        },
        "id": "-iLkOMbgT4M9",
        "outputId": "1bcede00-aba8-4f0d-f64a-c8e573f322ad"
      },
      "source": [
        "plt.plot(reward_lst)\n",
        "plt.show()"
      ],
      "execution_count": null,
      "outputs": [
        {
          "output_type": "display_data",
          "data": {
            "image/png": "[encoded data removed]",
            "text/plain": [
              "<Figure size 432x288 with 1 Axes>"
            ]
          },
          "metadata": {
            "tags": [],
            "needs_background": "light"
          }
        }
      ]
    },
    {
      "cell_type": "markdown",
      "metadata": {
        "id": "HskMonI6CYY9"
      },
      "source": [
        "Above plot shows exact value of the rewards for 387 runs. \n",
        "Can be noticed that the agent still gets erratic behaviour instead of a general solution. That is because a stochastic approach is used for the implementation (get_action function uses random choice with probability set as the policy) - the policy is not hardcoded, so there will always be a time where an agent will try to do a weird move. This is in line with the exploration vs. exploitation method."
      ]
    },
    {
      "cell_type": "markdown",
      "metadata": {
        "id": "9-jpvcnJjSPp"
      },
      "source": [
        "In conclusion, can be observed that A2C is a powerful algorithms that can efficiently solve problems such as CartPole. However, selecting the proper parameters and networks' architectures significantly affects its performance. When the architecture of the network was too complex or the learning rate was too high, the agent did not learn and the behaviour was random. "
      ]
    }
  ]
}